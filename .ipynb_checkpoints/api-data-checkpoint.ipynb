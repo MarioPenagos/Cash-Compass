{
 "cells": [
  {
   "cell_type": "code",
   "execution_count": 6,
   "id": "29e3028d-5313-4c28-ac3c-ca0d53df93c4",
   "metadata": {},
   "outputs": [
    {
     "name": "stdout",
     "output_type": "stream",
     "text": [
      "        Date  CPI Value\n",
      "0 2024-01-31    309.685\n",
      "1 2024-02-29    311.054\n",
      "2 2024-03-31    312.230\n",
      "3 2024-04-30    313.207\n",
      "4 2024-05-31    313.225\n",
      "5 2024-06-30    313.049\n",
      "6 2024-07-31    313.534\n"
     ]
    }
   ],
   "source": [
    "import requests\n",
    "import pandas as pd\n",
    "\n",
    "# FRED API key\n",
    "api_key = \"03e5ab462d33249ceadd622b5048b505\"\n",
    "\n",
    "# Define the endpoint and parameters\n",
    "url = \"https://api.stlouisfed.org/fred/series/observations\"\n",
    "params = {\n",
    "    \"series_id\": \"CPIAUCSL\",\n",
    "    \"api_key\": api_key,\n",
    "    \"file_type\": \"json\",\n",
    "    \"observation_start\": \"2024-01-01\",  # Start date for the data\n",
    "    \"observation_end\": \"2024-07-31\"     # End date for the data\n",
    "}\n",
    "\n",
    "# Make the API call\n",
    "response = requests.get(url, params=params)\n",
    "\n",
    "# Check if the request was successful\n",
    "if response.status_code == 200:\n",
    "    cpi_data = response.json()\n",
    "\n",
    "    # Extract the date and value from the response\n",
    "    observations = cpi_data['observations']\n",
    "    data = [(item['date'], float(item['value'])) for item in observations]\n",
    "\n",
    "    # Create a DataFrame from the data\n",
    "    df = pd.DataFrame(data, columns=['Date', 'CPI Value'])\n",
    "\n",
    "    # Adjust the Date column to the last day of each month\n",
    "    df['Date'] = pd.to_datetime(df['Date']) + pd.offsets.MonthEnd(0)\n",
    "\n",
    "    # Write the DataFrame to a CSV file\n",
    "    df.to_csv('fred_cpi.csv', index=False)\n",
    "\n",
    "    # Display the DataFrame\n",
    "    print(df)\n",
    "else:\n",
    "    print(f\"Failed to retrieve data. Status code: {response.status_code}\")\n"
   ]
  },
  {
   "cell_type": "code",
   "execution_count": null,
   "id": "bf9ed345-29d0-4ab6-adfb-1f3706e77a59",
   "metadata": {},
   "outputs": [],
   "source": []
  }
 ],
 "metadata": {
  "kernelspec": {
   "display_name": "Python 3 (ipykernel)",
   "language": "python",
   "name": "python3"
  },
  "language_info": {
   "codemirror_mode": {
    "name": "ipython",
    "version": 3
   },
   "file_extension": ".py",
   "mimetype": "text/x-python",
   "name": "python",
   "nbconvert_exporter": "python",
   "pygments_lexer": "ipython3",
   "version": "3.8.19"
  }
 },
 "nbformat": 4,
 "nbformat_minor": 5
}
